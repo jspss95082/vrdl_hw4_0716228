{
 "cells": [
  {
   "cell_type": "code",
   "execution_count": null,
   "metadata": {},
   "outputs": [],
   "source": [
    "import os\n",
    "from sklearn.model_selection import train_test_split\n",
    "import cv2\n",
    "import json\n",
    "import numpy as np\n",
    "import random\n",
    "import numpy as np\n",
    "import random\n",
    "import argparse\n",
    "import torch\n",
    "import torch.nn as nn\n",
    "import torch.nn.functional as F\n",
    "import torch.optim as optim\n",
    "from torchvision import datasets, transforms\n",
    "from torch.optim.lr_scheduler import StepLR\n",
    "from torch.utils.data import Dataset, DataLoader\n",
    "from PIL import Image\n",
    "from torchvision import models\n",
    "from torch.optim.lr_scheduler import ReduceLROnPlateau\n",
    "import antialiased_cnns\n",
    "import os\n",
    "import json"
   ]
  },
  {
   "cell_type": "code",
   "execution_count": null,
   "metadata": {},
   "outputs": [],
   "source": [
    "os.makedirs('KAIR-master/trainsets/trainH/trainH')\n",
    "os.makedirs('KAIR-master/trainsets/trainL/trainL')"
   ]
  },
  {
   "cell_type": "code",
   "execution_count": null,
   "metadata": {},
   "outputs": [],
   "source": [
    "all = os.listdir('training_hr_images/training_hr_images')\n",
    "num = 1\n",
    "\n",
    "for image in all:\n",
    "    image = 'training_hr_images/training_hr_images/' + image\n",
    "    img = cv2.imread(image)\n",
    "    rows, cols, channels = img.shape\n",
    "    lr = 384//3\n",
    "    lc = 384//3\n",
    "    hr = 384\n",
    "    hc = 384\n",
    "    img_h = cv2.resize(img, (hr, hc), interpolation=cv2.INTER_CUBIC)\n",
    "    img_x3 = cv2.resize(img_h, (lr, lc), interpolation=cv2.INTER_CUBIC)\n",
    "    num_s = \"{:0>4d}\".format(num)\n",
    "    cv2.imwrite(\n",
    "        'KAIR-master/trainsets/trainH/trainH/' + num_s + '.png', img_h)\n",
    "    cv2.imwrite(\n",
    "        'KAIR-master/trainsets/trainL/trainL/' + num_s + 'x3.png', img_x3)\n",
    "    num += 1"
   ]
  }
 ],
 "metadata": {
  "interpreter": {
   "hash": "f23faf4bfe871c203c8bec80520af5927fc7cb1ae3bd834ddf554ee587ad1c05"
  },
  "kernelspec": {
   "display_name": "Python 3.8.6 64-bit",
   "language": "python",
   "name": "python3"
  },
  "language_info": {
   "codemirror_mode": {
    "name": "ipython",
    "version": 3
   },
   "file_extension": ".py",
   "mimetype": "text/x-python",
   "name": "python",
   "nbconvert_exporter": "python",
   "pygments_lexer": "ipython3",
   "version": "3.8.6"
  },
  "orig_nbformat": 4
 },
 "nbformat": 4,
 "nbformat_minor": 2
}
